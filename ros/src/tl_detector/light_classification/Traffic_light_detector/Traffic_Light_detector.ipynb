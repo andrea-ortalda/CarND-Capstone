{
 "cells": [
  {
   "cell_type": "markdown",
   "metadata": {},
   "source": [
    "# Self-Driving Car Engineer Nanodegree\n",
    "\n",
    "## Capstone project\n",
    "\n",
    "### Project8: Traffic Light Classification"
   ]
  },
  {
   "cell_type": "code",
   "execution_count": 1,
   "metadata": {},
   "outputs": [
    {
     "name": "stderr",
     "output_type": "stream",
     "text": [
      "/root/miniconda3/envs/carnd-term1/lib/python3.5/site-packages/sklearn/utils/fixes.py:313: FutureWarning: numpy not_equal will not check object identity in the future. The comparison did not return the same result as suggested by the identity (`is`)) and will change.\n",
      "  _nan_object_mask = _nan_object_array != _nan_object_array\n",
      "Using TensorFlow backend.\n"
     ]
    },
    {
     "data": {
      "text/plain": [
       "'1.3.0'"
      ]
     },
     "execution_count": 1,
     "metadata": {},
     "output_type": "execute_result"
    }
   ],
   "source": [
    "import os \n",
    "import cv2 \n",
    "import numpy as np \n",
    "import tensorflow as tf \n",
    "import matplotlib.pyplot as plt\n",
    "import sys \n",
    "import glob\n",
    "import yaml\n",
    "\n",
    "from sklearn.utils import shuffle\n",
    "from sklearn.model_selection import train_test_split \n",
    "\n",
    "from keras.models import load_model\n",
    "from keras.models import Sequential\n",
    "from keras.layers import Flatten, Dense, Lambda\n",
    "from keras.layers.core import Dense, Activation, Flatten, Dropout\n",
    "\n",
    "from keras.layers import Cropping2D\n",
    "from keras.layers.convolutional import Conv2D\n",
    "from keras.layers.pooling import MaxPooling2D\n",
    "from keras import backend as K\n",
    "\n",
    "tf.__version__"
   ]
  },
  {
   "cell_type": "code",
   "execution_count": 2,
   "metadata": {},
   "outputs": [
    {
     "name": "stdout",
     "output_type": "stream",
     "text": [
      "6\n"
     ]
    }
   ],
   "source": [
    "# Grab test images\n",
    "img_dir = \"classification_images\" # Enter Directory of all images \n",
    "data_path = os.path.join(img_dir,'*g')\n",
    "images = glob.glob(data_path)\n",
    "classification_images = []\n",
    "test_images = []\n",
    "\n",
    "# Create the list of images to be classified\n",
    "for image in images:\n",
    "    classification_images.append(cv2.imread(image))\n",
    "    \n",
    "# Squeeze them in 1-D and convert them for the model    \n",
    "for img in classification_images:\n",
    "    img = cv2.cvtColor(img, cv2.COLOR_RGB2BGR)\n",
    "    test_images.append(np.expand_dims(img, axis=0))\n",
    "\n",
    "# Model path\n",
    "model_path = \"ssd_mobilenet_v1_coco_11_06_2017/frozen_inference_graph.pb\"\n",
    "\n",
    "# Load the Tensorflow model into memory. \n",
    "detection_graph = tf.Graph() \n",
    "with detection_graph.as_default(): \n",
    "    od_graph_def = tf.GraphDef() \n",
    "    with tf.gfile.GFile(model_path, 'rb') as fid: \n",
    "        serialized_graph = fid.read() \n",
    "        od_graph_def.ParseFromString(serialized_graph) \n",
    "        tf.import_graph_def(od_graph_def, name ='') \n",
    "  \n",
    "    sess = tf.Session(graph = detection_graph) \n",
    "    \n",
    "print(len(classification_images))"
   ]
  },
  {
   "cell_type": "code",
   "execution_count": 3,
   "metadata": {},
   "outputs": [],
   "source": [
    "# Define input and output tensors (i.e. data) for the object detection classifier \n",
    "  \n",
    "# Input tensor is the image \n",
    "image_tensor = detection_graph.get_tensor_by_name('image_tensor:0') \n",
    "  \n",
    "# Output tensors are the detection boxes, scores, and classes \n",
    "# Each box represents a part of the image where a particular object was detected \n",
    "detection_boxes = detection_graph.get_tensor_by_name('detection_boxes:0') \n",
    "  \n",
    "# Each score represents level of confidence for each of the objects. \n",
    "# The score is shown on the result image, together with the class label. \n",
    "detection_scores = detection_graph.get_tensor_by_name('detection_scores:0') \n",
    "detection_classes = detection_graph.get_tensor_by_name('detection_classes:0') \n",
    "  \n",
    "# Number of objects detected \n",
    "num_detections = detection_graph.get_tensor_by_name('num_detections:0') "
   ]
  },
  {
   "cell_type": "code",
   "execution_count": 4,
   "metadata": {},
   "outputs": [],
   "source": [
    "# Perform the actual detection by running the model with the image as input \n",
    "images_with_boxes = []\n",
    "\n",
    "# Detect traffic light boxes, scores for detection and classes\n",
    "def detection(expand_image): \n",
    "    (boxes, scores, classes, num) = sess.run( \n",
    "        [detection_boxes, detection_scores, detection_classes, num_detections], \n",
    "        feed_dict ={image_tensor: expand_image})\n",
    "    return boxes, scores, classes\n",
    "\n",
    "# Draw boxes on image\n",
    "def draw_boxes(image, boxes, scores, classes):    \n",
    "    for parameter in zip(boxes[0], classes[0], scores[0]):\n",
    "         if parameter[1] == 10 and parameter[2] >= .5:\n",
    "            box = parameter[0]\n",
    "            x_min = int(box[0] * image.shape[0])\n",
    "            x_max = int(box[2] * image.shape[0])\n",
    "            y_min = int(box[1] * image.shape[1])\n",
    "            y_max = int(box[3] * image.shape[1])\n",
    "            image = cv2.rectangle(image, (y_min,x_min),(y_max,x_max), (0,255,0), 5)\n",
    "    images_with_boxes = cv2.cvtColor(image, cv2.COLOR_BGR2RGB)\n",
    "    return image"
   ]
  },
  {
   "cell_type": "code",
   "execution_count": 5,
   "metadata": {},
   "outputs": [],
   "source": [
    "boxes = []\n",
    "scores = []\n",
    "classes = []\n",
    "\n",
    "for i in range (len(classification_images)):\n",
    "    boxes, scores, classes = detection(test_images[i])\n",
    "    images_with_boxes.append(draw_boxes(classification_images[i], boxes, scores, classes))"
   ]
  },
  {
   "cell_type": "code",
   "execution_count": 6,
   "metadata": {},
   "outputs": [],
   "source": [
    "# Load train data\n",
    "train_data = yaml.load(open(\"data_train/train.yaml\"))\n",
    "labels = []\n",
    "train_images = []\n",
    "\n",
    "# Cut the image looking at the boxes in the yaml\n",
    "def cut_boxes(train_data):\n",
    "    for train_datum in train_data:\n",
    "        if len(train_datum['boxes']) != 0:\n",
    "            image_path = train_datum['path']\n",
    "            image = cv2.cvtColor(cv2.imread(image_path), cv2.COLOR_RGB2BGR)\n",
    "            for box in train_datum['boxes']:\n",
    "                label = box['label']\n",
    "                x_min = int(box['x_min'])\n",
    "                x_max = int(box['x_max'])\n",
    "                y_min = int(box['y_min'])\n",
    "                y_max = int(box['y_max'])\n",
    "                if (x_max - x_min) > 10:\n",
    "                    train_image = image[y_min:y_max,x_min:x_max,:]\n",
    "                    if train_image.shape[0] != 0:\n",
    "                        try:\n",
    "                            train_image = cv2.resize(train_image,(14,32))\n",
    "                            train_images.append(train_image)\n",
    "                            labels.append(label)\n",
    "                            len(labels)\n",
    "                        except:\n",
    "                            pass                        \n",
    "cut_boxes(train_data)"
   ]
  },
  {
   "cell_type": "code",
   "execution_count": 7,
   "metadata": {},
   "outputs": [
    {
     "data": {
      "image/png": "[encoded data removed]",
      "text/plain": [
       "<matplotlib.figure.Figure at 0x7f43eabd6f60>"
      ]
     },
     "metadata": {
      "needs_background": "light"
     },
     "output_type": "display_data"
    }
   ],
   "source": [
    "plt.figure()\n",
    "plt.imshow(train_images[6])\n",
    "plt.savefig(\"train_images.png\")"
   ]
  },
  {
   "cell_type": "code",
   "execution_count": 8,
   "metadata": {},
   "outputs": [],
   "source": [
    "# Load simulation data\n",
    "\n",
    "# Red \n",
    "red_path = \"data_train_sim/tl_data_red\" # Enter Directory of all images \n",
    "data_red_sim_path = os.path.join(red_path,'*g')\n",
    "\n",
    "images_sim_red = glob.glob(data_red_sim_path)\n",
    "images_sim_red.sort()\n",
    "\n",
    "# Green \n",
    "green_path = \"data_train_sim/tl_data_green\" # Enter Directory of all images \n",
    "data_green_sim_path = os.path.join(green_path,'*g')\n",
    "\n",
    "images_sim_green = glob.glob(data_green_sim_path)\n",
    "images_sim_green.sort()\n",
    "\n",
    "# Yellow \n",
    "yellow_path = \"data_train_sim/tl_data_yellow\" # Enter Directory of all images \n",
    "data_yellow_sim_path = os.path.join(yellow_path,'*g')\n",
    "\n",
    "images_sim_yellow = glob.glob(data_yellow_sim_path)\n",
    "images_sim_yellow.sort()"
   ]
  },
  {
   "cell_type": "code",
   "execution_count": 9,
   "metadata": {},
   "outputs": [
    {
     "name": "stdout",
     "output_type": "stream",
     "text": [
      "data_train_sim/tl_data_red/traffic_lights_data_red_001.jpg\n",
      "data_train_sim/tl_data_green/traffic_lights_data_green_001.jpg\n",
      "data_train_sim/tl_data_yellow/traffic_lights_data_yellow_001.jpg\n"
     ]
    }
   ],
   "source": [
    "print(images_sim_red[0])\n",
    "print(images_sim_green[0])\n",
    "print(images_sim_yellow[0])"
   ]
  },
  {
   "cell_type": "code",
   "execution_count": 10,
   "metadata": {},
   "outputs": [],
   "source": [
    "# Simulation image labeling\n",
    "labels_sim = []\n",
    "image_sim_paths = []\n",
    "\n",
    "for image in images_sim_red:\n",
    "    labels_sim.append('R')\n",
    "    image_sim_paths.append(image)\n",
    "for image in images_sim_green:\n",
    "    labels_sim.append('G')\n",
    "    image_sim_paths.append(image)\n",
    "for image in images_sim_yellow:\n",
    "    labels_sim.append('Y')\n",
    "    image_sim_paths.append(image)"
   ]
  },
  {
   "cell_type": "code",
   "execution_count": 11,
   "metadata": {},
   "outputs": [],
   "source": [
    "# # Shuffle simlation data (images and labels) \n",
    "# data_list = list(zip(labels_sim, image_sim_paths))\n",
    "# random.shuffle(data_list)\n",
    "# labels_sim, image_sim_paths = zip(*data_list)"
   ]
  },
  {
   "cell_type": "code",
   "execution_count": 12,
   "metadata": {},
   "outputs": [],
   "source": [
    "# Perform traffic light detection on simulation data\n",
    "classification_images_red = []\n",
    "test_images_red = []\n",
    "classification_images_green = []\n",
    "test_images_green = []\n",
    "classification_images_yellow = []\n",
    "test_images_yellow = []\n",
    "\n",
    "boxes_sim = []\n",
    "classes_sim = []\n",
    "scores_sim = []\n",
    "\n",
    "sim_images_box = []\n",
    "labels_sim = []\n",
    "  \n",
    "# RED CASE    \n",
    "\n",
    "# Create the list of images to be classified\n",
    "for image in images_sim_red:\n",
    "    classification_images_red.append(cv2.imread(image))\n",
    "    \n",
    "# Squeeze them in 1-D and convert them for the model     \n",
    "for img in classification_images_red:\n",
    "    img = cv2.cvtColor(img, cv2.COLOR_RGB2BGR)\n",
    "    test_images_red.append(np.expand_dims(img, axis=0))\n",
    "\n",
    "# Cut the image looking at boxes detected\n",
    "for i in range (len(images_sim_red)):\n",
    "# for i in range(1):\n",
    "    boxes_sim, scores_sim, classes_sim = detection(test_images_red[i])\n",
    "    for parameter in zip(boxes_sim[0], classes_sim[0], scores_sim[0]):\n",
    "         if parameter[1] == 10 and parameter[2] >= .5:\n",
    "            box = parameter[0]\n",
    "            x_min = int(box[0] * classification_images_red[i].shape[0])\n",
    "            x_max = int(box[2] * classification_images_red[i].shape[0])\n",
    "            y_min = int(box[1] * classification_images_red[i].shape[1])\n",
    "            y_max = int(box[3] * classification_images_red[i].shape[1])\n",
    "            if (x_max - x_min) > 20:\n",
    "                image = classification_images_red[i][x_min:x_max,y_min:y_max,:]\n",
    "                if image.shape[0] != 0:\n",
    "                    try:\n",
    "                        sim_image_box = cv2.resize(image,(14,32))\n",
    "                        sim_image_box = cv2.cvtColor(sim_image_box, cv2.COLOR_BGR2RGB)\n",
    "                        sim_images_box.append(sim_image_box)\n",
    "                        labels_sim.append('R')\n",
    "                    except:\n",
    "                        pass\n",
    "                    \n",
    "# GREEN CASE    \n",
    "\n",
    "# Create the list of images to be classified\n",
    "for image in images_sim_green:\n",
    "    classification_images_green.append(cv2.imread(image))\n",
    "    \n",
    "# Squeeze them in 1-D and convert them for the model     \n",
    "for img in classification_images_green:\n",
    "    img = cv2.cvtColor(img, cv2.COLOR_RGB2BGR)\n",
    "    test_images_green.append(np.expand_dims(img, axis=0))\n",
    "\n",
    "# Cut the image looking at boxes detected\n",
    "for i in range (len(images_sim_green)):\n",
    "# for i in range(1):\n",
    "    boxes_sim, scores_sim, classes_sim = detection(test_images_green[i])\n",
    "    for parameter in zip(boxes_sim[0], classes_sim[0], scores_sim[0]):\n",
    "         if parameter[1] == 10 and parameter[2] >= .5:\n",
    "            box = parameter[0]\n",
    "            x_min = int(box[0] * classification_images_green[i].shape[0])\n",
    "            x_max = int(box[2] * classification_images_green[i].shape[0])\n",
    "            y_min = int(box[1] * classification_images_green[i].shape[1])\n",
    "            y_max = int(box[3] * classification_images_green[i].shape[1])\n",
    "            if (x_max - x_min) > 20:\n",
    "                image = classification_images_green[i][x_min:x_max,y_min:y_max,:]\n",
    "                if image.shape[0] != 0:\n",
    "                    try:\n",
    "                        sim_image_box = cv2.resize(image,(14,32))\n",
    "                        sim_image_box = cv2.cvtColor(sim_image_box, cv2.COLOR_BGR2RGB)\n",
    "                        sim_images_box.append(sim_image_box)\n",
    "                        labels_sim.append('G')\n",
    "                    except:\n",
    "                        pass\n",
    "                    \n",
    "# YELLOW CASE    \n",
    "\n",
    "# Create the list of images to be classified\n",
    "for image in images_sim_yellow:\n",
    "    classification_images_yellow.append(cv2.imread(image))\n",
    "    \n",
    "# Squeeze them in 1-D and convert them for the model     \n",
    "for img in classification_images_yellow:\n",
    "    img = cv2.cvtColor(img, cv2.COLOR_RGB2BGR)\n",
    "    test_images_yellow.append(np.expand_dims(img, axis=0))\n",
    "\n",
    "# Cut the image looking at boxes detected\n",
    "for i in range (len(images_sim_yellow)):\n",
    "# for i in range(1):\n",
    "    boxes_sim, scores_sim, classes_sim = detection(test_images_yellow[i])\n",
    "    for parameter in zip(boxes_sim[0], classes_sim[0], scores_sim[0]):\n",
    "         if parameter[1] == 10 and parameter[2] >= .5:\n",
    "            box = parameter[0]\n",
    "            x_min = int(box[0] * classification_images_yellow[i].shape[0])\n",
    "            x_max = int(box[2] * classification_images_yellow[i].shape[0])\n",
    "            y_min = int(box[1] * classification_images_yellow[i].shape[1])\n",
    "            y_max = int(box[3] * classification_images_yellow[i].shape[1])\n",
    "            if (x_max - x_min) > 20:\n",
    "                image = classification_images_yellow[i][x_min:x_max,y_min:y_max,:]\n",
    "                if image.shape[0] != 0:\n",
    "                    try:\n",
    "                        sim_image_box = cv2.resize(image,(14,32))\n",
    "                        sim_image_box = cv2.cvtColor(sim_image_box, cv2.COLOR_BGR2RGB)\n",
    "                        sim_images_box.append(sim_image_box)\n",
    "                        labels_sim.append('Y')\n",
    "                    except:\n",
    "                        pass"
   ]
  },
  {
   "cell_type": "code",
   "execution_count": 13,
   "metadata": {},
   "outputs": [
    {
     "name": "stdout",
     "output_type": "stream",
     "text": [
      "791\n",
      "791\n"
     ]
    },
    {
     "data": {
      "image/png": "[encoded data removed]",
      "text/plain": [
       "<matplotlib.figure.Figure at 0x7f43eabd66a0>"
      ]
     },
     "metadata": {
      "needs_background": "light"
     },
     "output_type": "display_data"
    }
   ],
   "source": [
    "print(len(sim_images_box))\n",
    "print(len(labels_sim))\n",
    "\n",
    "plt.figure()\n",
    "plt.imshow(sim_images_box[0])\n",
    "plt.savefig(\"sim_images_box0.png\")"
   ]
  },
  {
   "cell_type": "code",
   "execution_count": 14,
   "metadata": {
    "scrolled": true
   },
   "outputs": [],
   "source": [
    "# Label refactor: squeexe classes into the 4 we are interested in \n",
    "for i in range(len(labels)):\n",
    "    if labels[i] == 'Yellow':\n",
    "        labels[i] = 'Y'\n",
    "    elif labels[i] == 'Red':\n",
    "        labels[i] = 'R'\n",
    "    elif labels[i] == 'RedLeft':\n",
    "        labels[i] = 'R'\n",
    "    elif labels[i] == 'RedRight':\n",
    "        labels[i] = 'R'\n",
    "    elif labels[i] == 'Green':\n",
    "        labels[i] = 'G'\n",
    "    elif labels[i] == 'GreenLeft':\n",
    "        labels[i] = 'G'\n",
    "    elif labels[i] == 'GreenRight':\n",
    "        labels[i] = 'G'\n",
    "    else:\n",
    "        labels[i] = 'O'"
   ]
  },
  {
   "cell_type": "code",
   "execution_count": 15,
   "metadata": {},
   "outputs": [],
   "source": [
    "# Creating a Dictionary with dict() method \n",
    "label_dict = dict({'R' : 0, 'Y' : 1, 'G' : 2, 'O' : 3}) \n",
    "\n",
    "# Train lists\n",
    "x_real = []\n",
    "y_real = []\n",
    "\n",
    "# Use dict to store labels\n",
    "y_real = [label_dict[i] for i in labels]"
   ]
  },
  {
   "cell_type": "code",
   "execution_count": 16,
   "metadata": {},
   "outputs": [],
   "source": [
    "# Transform them for the model\n",
    "x_real = np.array(train_images)\n",
    "y_real = np.array(y_real)"
   ]
  },
  {
   "cell_type": "code",
   "execution_count": 17,
   "metadata": {
    "scrolled": false
   },
   "outputs": [
    {
     "name": "stdout",
     "output_type": "stream",
     "text": [
      "_________________________________________________________________\n",
      "Layer (type)                 Output Shape              Param #   \n",
      "=================================================================\n",
      "lambda_1 (Lambda)            (None, 32, 14, 3)         0         \n",
      "_________________________________________________________________\n",
      "conv2d_1 (Conv2D)            (None, 30, 12, 8)         224       \n",
      "_________________________________________________________________\n",
      "dropout_1 (Dropout)          (None, 30, 12, 8)         0         \n",
      "_________________________________________________________________\n",
      "conv2d_2 (Conv2D)            (None, 28, 10, 16)        1168      \n",
      "_________________________________________________________________\n",
      "dropout_2 (Dropout)          (None, 28, 10, 16)        0         \n",
      "_________________________________________________________________\n",
      "conv2d_3 (Conv2D)            (None, 26, 8, 32)         4640      \n",
      "_________________________________________________________________\n",
      "dropout_3 (Dropout)          (None, 26, 8, 32)         0         \n",
      "_________________________________________________________________\n",
      "conv2d_4 (Conv2D)            (None, 24, 6, 64)         18496     \n",
      "_________________________________________________________________\n",
      "dropout_4 (Dropout)          (None, 24, 6, 64)         0         \n",
      "_________________________________________________________________\n",
      "flatten_1 (Flatten)          (None, 9216)              0         \n",
      "_________________________________________________________________\n",
      "dense_1 (Dense)              (None, 100)               921700    \n",
      "_________________________________________________________________\n",
      "dense_2 (Dense)              (None, 20)                2020      \n",
      "_________________________________________________________________\n",
      "dense_3 (Dense)              (None, 4)                 84        \n",
      "=================================================================\n",
      "Total params: 948,332\n",
      "Trainable params: 948,332\n",
      "Non-trainable params: 0\n",
      "_________________________________________________________________\n",
      "None\n"
     ]
    },
    {
     "name": "stderr",
     "output_type": "stream",
     "text": [
      "/root/miniconda3/envs/carnd-term1/lib/python3.5/site-packages/keras/models.py:874: UserWarning: The `nb_epoch` argument in `fit` has been renamed `epochs`.\n",
      "  warnings.warn('The `nb_epoch` argument in `fit` '\n"
     ]
    },
    {
     "name": "stdout",
     "output_type": "stream",
     "text": [
      "Train on 3244 samples, validate on 812 samples\n",
      "Epoch 1/16\n",
      "3244/3244 [==============================] - 4s 1ms/step - loss: 0.4384 - acc: 0.8471 - val_loss: 0.1473 - val_acc: 0.9631\n",
      "Epoch 2/16\n",
      "3244/3244 [==============================] - 4s 1ms/step - loss: 0.2083 - acc: 0.9340 - val_loss: 0.1451 - val_acc: 0.9557\n",
      "Epoch 3/16\n",
      "3244/3244 [==============================] - 4s 1ms/step - loss: 0.1827 - acc: 0.9405 - val_loss: 0.1458 - val_acc: 0.9594\n",
      "Epoch 4/16\n",
      "3244/3244 [==============================] - 4s 1ms/step - loss: 0.1528 - acc: 0.9498 - val_loss: 0.1423 - val_acc: 0.9667\n",
      "Epoch 5/16\n",
      "3244/3244 [==============================] - 4s 1ms/step - loss: 0.1407 - acc: 0.9556 - val_loss: 0.1595 - val_acc: 0.9643\n",
      "Epoch 6/16\n",
      "3244/3244 [==============================] - 4s 1ms/step - loss: 0.1340 - acc: 0.9556 - val_loss: 0.1127 - val_acc: 0.9729\n",
      "Epoch 7/16\n",
      "3244/3244 [==============================] - 4s 1ms/step - loss: 0.1345 - acc: 0.9578 - val_loss: 0.1416 - val_acc: 0.9680\n",
      "Epoch 8/16\n",
      "3244/3244 [==============================] - 4s 1ms/step - loss: 0.1312 - acc: 0.9612 - val_loss: 0.1266 - val_acc: 0.9655\n",
      "Epoch 9/16\n",
      "3244/3244 [==============================] - 4s 1ms/step - loss: 0.1219 - acc: 0.9621 - val_loss: 0.1241 - val_acc: 0.9680\n",
      "Epoch 10/16\n",
      "3244/3244 [==============================] - 4s 1ms/step - loss: 0.1252 - acc: 0.9609 - val_loss: 0.1261 - val_acc: 0.9766\n",
      "Epoch 11/16\n",
      "3244/3244 [==============================] - 4s 1ms/step - loss: 0.1132 - acc: 0.9670 - val_loss: 0.1499 - val_acc: 0.9680\n",
      "Epoch 12/16\n",
      "3244/3244 [==============================] - 4s 1ms/step - loss: 0.1208 - acc: 0.9639 - val_loss: 0.1299 - val_acc: 0.9704\n",
      "Epoch 13/16\n",
      "3244/3244 [==============================] - 4s 1ms/step - loss: 0.1191 - acc: 0.9618 - val_loss: 0.1099 - val_acc: 0.9754\n",
      "Epoch 14/16\n",
      "3244/3244 [==============================] - 4s 1ms/step - loss: 0.1007 - acc: 0.9658 - val_loss: 0.1069 - val_acc: 0.9754\n",
      "Epoch 15/16\n",
      "3244/3244 [==============================] - 4s 1ms/step - loss: 0.0949 - acc: 0.9695 - val_loss: 0.1144 - val_acc: 0.9717\n",
      "Epoch 16/16\n",
      "3244/3244 [==============================] - 4s 1ms/step - loss: 0.1175 - acc: 0.9593 - val_loss: 0.0959 - val_acc: 0.9791\n"
     ]
    }
   ],
   "source": [
    "# Train with real data\n",
    "\n",
    "model = Sequential()\n",
    "model.add(Lambda(lambda x: (x / 255.0) - 0.5, input_shape=(32,14,3)))\n",
    "model.add(Conv2D(filters=8, kernel_size=(3, 3), strides=(1, 1),activation='relu'))\n",
    "model.add(Dropout(0.5))\n",
    "model.add(Conv2D(filters=16, kernel_size=(3, 3),strides=(1, 1), activation='relu'))\n",
    "model.add(Dropout(0.5))\n",
    "model.add(Conv2D(filters=32, kernel_size=(3, 3), strides=(1, 1),activation='relu'))\n",
    "model.add(Dropout(0.5))\n",
    "model.add(Conv2D(filters=64, kernel_size=(3, 3) ,activation='relu'))\n",
    "model.add(Dropout(0.5))\n",
    "model.add(Flatten())\n",
    "model.add(Dense(units=100, activation='relu'))\n",
    "model.add(Dense(units=20, activation='relu'))\n",
    "model.add(Dense(units=4, activation='softmax'))\n",
    "print(model.summary())\n",
    "\n",
    "\n",
    "model.compile(optimizer='adam', loss='sparse_categorical_crossentropy', metrics=['accuracy'])\n",
    "model.fit(x_real,y_real,validation_split=0.2,shuffle=True,nb_epoch=16)\n",
    "model.save('model_real.h5')\n"
   ]
  },
  {
   "cell_type": "code",
   "execution_count": 18,
   "metadata": {},
   "outputs": [],
   "source": [
    "x_sim = []\n",
    "y_sim = []\n",
    "\n",
    "# Use dict to store labels\n",
    "y_sim= [label_dict[i] for i in labels_sim]\n",
    "\n",
    "# Transform them for the model\n",
    "x_sim = np.array(sim_images_box)\n",
    "y_sim = np.array(y_sim)"
   ]
  },
  {
   "cell_type": "code",
   "execution_count": 19,
   "metadata": {
    "scrolled": true
   },
   "outputs": [
    {
     "name": "stdout",
     "output_type": "stream",
     "text": [
      "\n",
      "# Evaluate on test data\n",
      "791/791 [==============================] - 0s 263us/step\n",
      "test loss, test acc: [0.22132795231532207, 0.96839443742098608]\n"
     ]
    }
   ],
   "source": [
    "# Evaluate the model on the test data using `evaluate`\n",
    "print('\\n# Evaluate on test data')\n",
    "results = model.evaluate(x_sim, y_sim, batch_size=128)\n",
    "print('test loss, test acc:', results)"
   ]
  },
  {
   "cell_type": "code",
   "execution_count": 20,
   "metadata": {},
   "outputs": [
    {
     "name": "stdout",
     "output_type": "stream",
     "text": [
      "_________________________________________________________________\n",
      "Layer (type)                 Output Shape              Param #   \n",
      "=================================================================\n",
      "lambda_2 (Lambda)            (None, 32, 14, 3)         0         \n",
      "_________________________________________________________________\n",
      "conv2d_5 (Conv2D)            (None, 30, 12, 8)         224       \n",
      "_________________________________________________________________\n",
      "dropout_5 (Dropout)          (None, 30, 12, 8)         0         \n",
      "_________________________________________________________________\n",
      "conv2d_6 (Conv2D)            (None, 28, 10, 16)        1168      \n",
      "_________________________________________________________________\n",
      "dropout_6 (Dropout)          (None, 28, 10, 16)        0         \n",
      "_________________________________________________________________\n",
      "conv2d_7 (Conv2D)            (None, 26, 8, 32)         4640      \n",
      "_________________________________________________________________\n",
      "dropout_7 (Dropout)          (None, 26, 8, 32)         0         \n",
      "_________________________________________________________________\n",
      "conv2d_8 (Conv2D)            (None, 24, 6, 64)         18496     \n",
      "_________________________________________________________________\n",
      "dropout_8 (Dropout)          (None, 24, 6, 64)         0         \n",
      "_________________________________________________________________\n",
      "flatten_2 (Flatten)          (None, 9216)              0         \n",
      "_________________________________________________________________\n",
      "dense_4 (Dense)              (None, 100)               921700    \n",
      "_________________________________________________________________\n",
      "dense_5 (Dense)              (None, 20)                2020      \n",
      "_________________________________________________________________\n",
      "dense_6 (Dense)              (None, 4)                 84        \n",
      "=================================================================\n",
      "Total params: 948,332\n",
      "Trainable params: 948,332\n",
      "Non-trainable params: 0\n",
      "_________________________________________________________________\n",
      "None\n",
      "Train on 632 samples, validate on 159 samples\n",
      "Epoch 1/16\n",
      "632/632 [==============================] - 1s 2ms/step - loss: 0.2890 - acc: 0.8797 - val_loss: 12.6715 - val_acc: 0.2138\n",
      "Epoch 2/16\n",
      "632/632 [==============================] - 1s 1ms/step - loss: 0.0503 - acc: 0.9778 - val_loss: 12.6715 - val_acc: 0.2138\n",
      "Epoch 3/16\n",
      "632/632 [==============================] - 1s 1ms/step - loss: 0.0457 - acc: 0.9778 - val_loss: 12.6539 - val_acc: 0.2138\n",
      "Epoch 4/16\n",
      "632/632 [==============================] - 1s 1ms/step - loss: 0.0289 - acc: 0.9873 - val_loss: 9.1317 - val_acc: 0.2138\n",
      "Epoch 5/16\n",
      "632/632 [==============================] - 1s 1ms/step - loss: 0.0256 - acc: 0.9858 - val_loss: 11.8235 - val_acc: 0.2138\n",
      "Epoch 6/16\n",
      "632/632 [==============================] - 1s 1ms/step - loss: 0.0276 - acc: 0.9889 - val_loss: 10.6790 - val_acc: 0.2138\n",
      "Epoch 7/16\n",
      "632/632 [==============================] - 1s 1ms/step - loss: 0.0326 - acc: 0.9858 - val_loss: 8.3330 - val_acc: 0.2138\n",
      "Epoch 8/16\n",
      "632/632 [==============================] - 1s 1ms/step - loss: 0.0298 - acc: 0.9873 - val_loss: 9.0736 - val_acc: 0.2138\n",
      "Epoch 9/16\n",
      "632/632 [==============================] - 1s 1ms/step - loss: 0.0225 - acc: 0.9921 - val_loss: 12.6612 - val_acc: 0.2138\n",
      "Epoch 10/16\n",
      "632/632 [==============================] - 1s 1ms/step - loss: 0.0239 - acc: 0.9921 - val_loss: 12.3801 - val_acc: 0.2138\n",
      "Epoch 11/16\n",
      "632/632 [==============================] - 1s 1ms/step - loss: 0.0218 - acc: 0.9953 - val_loss: 12.6598 - val_acc: 0.2138\n",
      "Epoch 12/16\n",
      "632/632 [==============================] - 1s 1ms/step - loss: 0.0215 - acc: 0.9937 - val_loss: 12.0038 - val_acc: 0.2138\n",
      "Epoch 13/16\n",
      "632/632 [==============================] - 1s 1ms/step - loss: 0.0202 - acc: 0.9953 - val_loss: 12.6715 - val_acc: 0.2138\n",
      "Epoch 14/16\n",
      "632/632 [==============================] - 1s 1ms/step - loss: 0.0223 - acc: 0.9953 - val_loss: 12.6715 - val_acc: 0.2138\n",
      "Epoch 15/16\n",
      "632/632 [==============================] - 1s 1ms/step - loss: 0.0185 - acc: 0.9953 - val_loss: 12.4873 - val_acc: 0.2138\n",
      "Epoch 16/16\n",
      "632/632 [==============================] - 1s 1ms/step - loss: 0.0178 - acc: 0.9953 - val_loss: 12.6715 - val_acc: 0.2138\n"
     ]
    }
   ],
   "source": [
    "# Train with simulation data\n",
    "\n",
    "model = Sequential()\n",
    "model.add(Lambda(lambda x: (x / 255.0) - 0.5, input_shape=(32,14,3)))\n",
    "model.add(Conv2D(filters=8, kernel_size=(3, 3), strides=(1, 1),activation='relu'))\n",
    "model.add(Dropout(0.5))\n",
    "model.add(Conv2D(filters=16, kernel_size=(3, 3),strides=(1, 1), activation='relu'))\n",
    "model.add(Dropout(0.5))\n",
    "model.add(Conv2D(filters=32, kernel_size=(3, 3), strides=(1, 1),activation='relu'))\n",
    "model.add(Dropout(0.5))\n",
    "model.add(Conv2D(filters=64, kernel_size=(3, 3) ,activation='relu'))\n",
    "model.add(Dropout(0.5))\n",
    "model.add(Flatten())\n",
    "model.add(Dense(units=100, activation='relu'))\n",
    "model.add(Dense(units=20, activation='relu'))\n",
    "model.add(Dense(units=4, activation='softmax'))\n",
    "print(model.summary())\n",
    "\n",
    "\n",
    "model.compile(optimizer='adam', loss='sparse_categorical_crossentropy', metrics=['accuracy'])\n",
    "model.fit(x_sim,y_sim,validation_split=0.2,shuffle=True,nb_epoch=16)\n",
    "model.save('model_sim.h5')\n"
   ]
  },
  {
   "cell_type": "code",
   "execution_count": 21,
   "metadata": {},
   "outputs": [
    {
     "name": "stdout",
     "output_type": "stream",
     "text": [
      "\n",
      "# Evaluate on test data\n",
      "4056/4056 [==============================] - 1s 230us/step\n",
      "test loss, test acc: [0.64192731610886911, 0.83653846153846156]\n"
     ]
    }
   ],
   "source": [
    "# Evaluate the model on the test data using `evaluate`\n",
    "print('\\n# Evaluate on test data')\n",
    "results = model.evaluate(x_real, y_real, batch_size=128)\n",
    "print('test loss, test acc:', results)"
   ]
  },
  {
   "cell_type": "code",
   "execution_count": 22,
   "metadata": {},
   "outputs": [],
   "source": [
    "# Create miscellaneous data set\n",
    "x_data_set = []\n",
    "y_data_set = []\n",
    "\n",
    "x_data_set = np.concatenate((x_real, x_sim))\n",
    "y_data_set = np.concatenate((y_real, y_sim))\n",
    "\n",
    "x_data_set, y_data_set = shuffle(x_data_set, y_data_set)\n",
    "\n",
    "x_train = []\n",
    "y_train = []\n",
    "\n",
    "x_test = []\n",
    "y_test = []\n",
    "\n",
    "# Create training and testing vars\n",
    "x_train, x_test, y_train, y_test = train_test_split(x_data_set, y_data_set, test_size=0.2)"
   ]
  },
  {
   "cell_type": "code",
   "execution_count": 23,
   "metadata": {
    "scrolled": true
   },
   "outputs": [
    {
     "name": "stdout",
     "output_type": "stream",
     "text": [
      "_________________________________________________________________\n",
      "Layer (type)                 Output Shape              Param #   \n",
      "=================================================================\n",
      "lambda_3 (Lambda)            (None, 32, 14, 3)         0         \n",
      "_________________________________________________________________\n",
      "conv2d_9 (Conv2D)            (None, 30, 12, 8)         224       \n",
      "_________________________________________________________________\n",
      "dropout_9 (Dropout)          (None, 30, 12, 8)         0         \n",
      "_________________________________________________________________\n",
      "conv2d_10 (Conv2D)           (None, 28, 10, 16)        1168      \n",
      "_________________________________________________________________\n",
      "dropout_10 (Dropout)         (None, 28, 10, 16)        0         \n",
      "_________________________________________________________________\n",
      "conv2d_11 (Conv2D)           (None, 26, 8, 32)         4640      \n",
      "_________________________________________________________________\n",
      "dropout_11 (Dropout)         (None, 26, 8, 32)         0         \n",
      "_________________________________________________________________\n",
      "conv2d_12 (Conv2D)           (None, 24, 6, 64)         18496     \n",
      "_________________________________________________________________\n",
      "dropout_12 (Dropout)         (None, 24, 6, 64)         0         \n",
      "_________________________________________________________________\n",
      "flatten_3 (Flatten)          (None, 9216)              0         \n",
      "_________________________________________________________________\n",
      "dense_7 (Dense)              (None, 100)               921700    \n",
      "_________________________________________________________________\n",
      "dense_8 (Dense)              (None, 20)                2020      \n",
      "_________________________________________________________________\n",
      "dense_9 (Dense)              (None, 4)                 84        \n",
      "=================================================================\n",
      "Total params: 948,332\n",
      "Trainable params: 948,332\n",
      "Non-trainable params: 0\n",
      "_________________________________________________________________\n",
      "None\n",
      "Train on 3101 samples, validate on 776 samples\n",
      "Epoch 1/16\n",
      "3101/3101 [==============================] - 4s 1ms/step - loss: 0.4163 - acc: 0.8565 - val_loss: 0.2228 - val_acc: 0.9420\n",
      "Epoch 2/16\n",
      "3101/3101 [==============================] - 4s 1ms/step - loss: 0.2011 - acc: 0.9361 - val_loss: 0.1868 - val_acc: 0.9446\n",
      "Epoch 3/16\n",
      "3101/3101 [==============================] - 4s 1ms/step - loss: 0.1795 - acc: 0.9378 - val_loss: 0.1740 - val_acc: 0.9510\n",
      "Epoch 4/16\n",
      "3101/3101 [==============================] - 4s 1ms/step - loss: 0.1608 - acc: 0.9465 - val_loss: 0.1832 - val_acc: 0.9536\n",
      "Epoch 5/16\n",
      "3101/3101 [==============================] - 4s 1ms/step - loss: 0.1543 - acc: 0.9529 - val_loss: 0.1571 - val_acc: 0.9549\n",
      "Epoch 6/16\n",
      "3101/3101 [==============================] - 4s 1ms/step - loss: 0.1553 - acc: 0.9526 - val_loss: 0.1725 - val_acc: 0.9510\n",
      "Epoch 7/16\n",
      "3101/3101 [==============================] - 4s 1ms/step - loss: 0.1364 - acc: 0.9568 - val_loss: 0.1716 - val_acc: 0.9562\n",
      "Epoch 8/16\n",
      "3101/3101 [==============================] - 4s 1ms/step - loss: 0.1416 - acc: 0.9507 - val_loss: 0.1590 - val_acc: 0.9588\n",
      "Epoch 9/16\n",
      "3101/3101 [==============================] - 4s 1ms/step - loss: 0.1295 - acc: 0.9607 - val_loss: 0.1400 - val_acc: 0.9639\n",
      "Epoch 10/16\n",
      "3101/3101 [==============================] - 4s 1ms/step - loss: 0.1375 - acc: 0.9597 - val_loss: 0.1440 - val_acc: 0.9613\n",
      "Epoch 11/16\n",
      "3101/3101 [==============================] - 4s 1ms/step - loss: 0.1257 - acc: 0.9600 - val_loss: 0.1418 - val_acc: 0.9562\n",
      "Epoch 12/16\n",
      "3101/3101 [==============================] - 4s 1ms/step - loss: 0.1162 - acc: 0.9616 - val_loss: 0.1473 - val_acc: 0.9601\n",
      "Epoch 13/16\n",
      "3101/3101 [==============================] - 4s 1ms/step - loss: 0.1178 - acc: 0.9636 - val_loss: 0.1667 - val_acc: 0.9536\n",
      "Epoch 14/16\n",
      "3101/3101 [==============================] - 4s 1ms/step - loss: 0.1199 - acc: 0.9623 - val_loss: 0.1482 - val_acc: 0.9626\n",
      "Epoch 15/16\n",
      "3101/3101 [==============================] - 4s 1ms/step - loss: 0.1043 - acc: 0.9665 - val_loss: 0.1396 - val_acc: 0.9652\n",
      "Epoch 16/16\n",
      "3101/3101 [==============================] - 4s 1ms/step - loss: 0.0965 - acc: 0.9684 - val_loss: 0.1596 - val_acc: 0.9575\n"
     ]
    }
   ],
   "source": [
    "# Train with miscellaneous data\n",
    "\n",
    "model = Sequential()\n",
    "model.add(Lambda(lambda x: (x / 255.0) - 0.5, input_shape=(32,14,3)))\n",
    "model.add(Conv2D(filters=8, kernel_size=(3, 3), strides=(1, 1),activation='relu'))\n",
    "model.add(Dropout(0.5))\n",
    "model.add(Conv2D(filters=16, kernel_size=(3, 3),strides=(1, 1), activation='relu'))\n",
    "model.add(Dropout(0.5))\n",
    "model.add(Conv2D(filters=32, kernel_size=(3, 3), strides=(1, 1),activation='relu'))\n",
    "model.add(Dropout(0.5))\n",
    "model.add(Conv2D(filters=64, kernel_size=(3, 3) ,activation='relu'))\n",
    "model.add(Dropout(0.5))\n",
    "model.add(Flatten())\n",
    "model.add(Dense(units=100, activation='relu'))\n",
    "model.add(Dense(units=20, activation='relu'))\n",
    "model.add(Dense(units=4, activation='softmax'))\n",
    "print(model.summary())\n",
    "\n",
    "\n",
    "model.compile(optimizer='adam', loss='sparse_categorical_crossentropy', metrics=['accuracy'])\n",
    "model.fit(x_train,y_train,validation_split=0.2,shuffle=True,nb_epoch=16)\n",
    "model.save('model.h5')"
   ]
  },
  {
   "cell_type": "code",
   "execution_count": 24,
   "metadata": {},
   "outputs": [
    {
     "name": "stdout",
     "output_type": "stream",
     "text": [
      "\n",
      "# Evaluate on test data\n",
      "970/970 [==============================] - 0s 258us/step\n",
      "test loss, test acc: [0.078347467838488907, 0.97628865979381441]\n"
     ]
    }
   ],
   "source": [
    "# Evaluate the model on the test data using `evaluate`\n",
    "print('\\n# Evaluate on test data')\n",
    "results = model.evaluate(x_test, y_test, batch_size=128)\n",
    "print('test loss, test acc:', results)"
   ]
  },
  {
   "cell_type": "code",
   "execution_count": 25,
   "metadata": {
    "scrolled": true
   },
   "outputs": [
    {
     "name": "stdout",
     "output_type": "stream",
     "text": [
      "1/1 [==============================] - 0s 76ms/step\n",
      "[2]\n"
     ]
    }
   ],
   "source": [
    "# load the model we saved\n",
    "model = load_model('model.h5')\n",
    "classification = model.predict_classes(x_train[0].reshape(1, 32, 14, 3), batch_size=10)\n",
    "\n",
    "print(classification)"
   ]
  },
  {
   "cell_type": "code",
   "execution_count": 26,
   "metadata": {
    "scrolled": true
   },
   "outputs": [
    {
     "data": {
      "image/png": "[encoded data removed]",
      "text/plain": [
       "<matplotlib.figure.Figure at 0x7f43ea831ac8>"
      ]
     },
     "metadata": {
      "needs_background": "light"
     },
     "output_type": "display_data"
    }
   ],
   "source": [
    "plt.figure()\n",
    "plt.imshow(x_train[0])\n",
    "plt.savefig(\"x_train0.png\")"
   ]
  },
  {
   "cell_type": "code",
   "execution_count": 27,
   "metadata": {},
   "outputs": [],
   "source": [
    "# Perform traffic light detection on udacity record data\n",
    "classification_images_red = []\n",
    "test_images_red = []\n",
    "classification_images_green = []\n",
    "test_images_green = []\n",
    "classification_images_yellow = []\n",
    "test_images_yellow = []\n",
    "classification_images_none = []\n",
    "test_images_none = []\n",
    "\n",
    "boxes_record = []\n",
    "classes_record = []\n",
    "scores_record = []\n",
    "\n",
    "record_images_box = []\n",
    "labels_record = []"
   ]
  },
  {
   "cell_type": "code",
   "execution_count": 28,
   "metadata": {},
   "outputs": [],
   "source": [
    "# Load record data\n",
    "\n",
    "# Red \n",
    "red_path = \"data_train_record/tl_data_red\" # Enter Directory of all images \n",
    "data_red_record_path = os.path.join(red_path,'*g')\n",
    "\n",
    "images_record_red = glob.glob(data_red_record_path)\n",
    "images_record_red.sort()\n",
    "\n",
    "# Green \n",
    "green_path = \"data_train_record/tl_data_green\" # Enter Directory of all images \n",
    "data_green_record_path = os.path.join(green_path,'*g')\n",
    "\n",
    "images_record_green = glob.glob(data_green_record_path)\n",
    "images_record_green.sort()\n",
    "\n",
    "# Yellow \n",
    "yellow_path = \"data_train_record/tl_data_yellow\" # Enter Directory of all images \n",
    "data_yellow_record_path = os.path.join(yellow_path,'*g')\n",
    "\n",
    "images_record_yellow = glob.glob(data_yellow_record_path)\n",
    "images_record_yellow.sort()\n",
    "\n",
    "#None\n",
    "\n",
    "none_path = \"data_train_record/tl_data_none\" # Enter Directory of all images \n",
    "data_none_record_path = os.path.join(none_path,'*g')\n",
    "\n",
    "images_record_none = glob.glob(data_none_record_path)\n",
    "images_record_none.sort()"
   ]
  },
  {
   "cell_type": "code",
   "execution_count": 29,
   "metadata": {},
   "outputs": [],
   "source": [
    "# RED CASE    \n",
    "\n",
    "# Create the list of images to be classified\n",
    "for image in images_record_red:\n",
    "    classification_images_red.append(cv2.imread(image))\n",
    "    \n",
    "# Squeeze them in 1-D and convert them for the model     \n",
    "for img in classification_images_red:\n",
    "    img = cv2.cvtColor(img, cv2.COLOR_RGB2BGR)\n",
    "    test_images_red.append(np.expand_dims(img, axis=0))\n",
    "\n",
    "# Cut the image looking at boxes detected\n",
    "for i in range (len(images_record_red)):\n",
    "# for i in range(1):\n",
    "    boxes_record, scores_record, classes_record = detection(test_images_red[i])\n",
    "    for parameter in zip(boxes_record[0], classes_record[0], scores_record[0]):\n",
    "         if parameter[1] == 10 and parameter[2] >= .5:\n",
    "            box = parameter[0]\n",
    "            x_min = int(box[0] * classification_images_red[i].shape[0])\n",
    "            x_max = int(box[2] * classification_images_red[i].shape[0])\n",
    "            y_min = int(box[1] * classification_images_red[i].shape[1])\n",
    "            y_max = int(box[3] * classification_images_red[i].shape[1])\n",
    "            if (x_max - x_min) > 20:\n",
    "                image = classification_images_red[i][x_min:x_max,y_min:y_max,:]\n",
    "                if image.shape[0] != 0:\n",
    "                    try:\n",
    "                        record_image_box = cv2.resize(image,(14,32))\n",
    "                        record_image_box = cv2.cvtColor(record_image_box, cv2.COLOR_BGR2RGB)\n",
    "                        record_images_box.append(record_image_box)\n",
    "                        labels_record.append('R')\n",
    "                    except:\n",
    "                        pass\n",
    "                    \n",
    "# GREEN CASE    \n",
    "\n",
    "# Create the list of images to be classified\n",
    "for image in images_record_green:\n",
    "    classification_images_green.append(cv2.imread(image))\n",
    "    \n",
    "# Squeeze them in 1-D and convert them for the model     \n",
    "for img in classification_images_green:\n",
    "    img = cv2.cvtColor(img, cv2.COLOR_RGB2BGR)\n",
    "    test_images_green.append(np.expand_dims(img, axis=0))\n",
    "\n",
    "# Cut the image looking at boxes detected\n",
    "for i in range (len(images_record_green)):\n",
    "# for i in range(1):\n",
    "    boxes_record, scores_record, classes_record = detection(test_images_green[i])\n",
    "    for parameter in zip(boxes_record[0], classes_record[0], scores_record[0]):\n",
    "         if parameter[1] == 10 and parameter[2] >= .5:\n",
    "            box = parameter[0]\n",
    "            x_min = int(box[0] * classification_images_green[i].shape[0])\n",
    "            x_max = int(box[2] * classification_images_green[i].shape[0])\n",
    "            y_min = int(box[1] * classification_images_green[i].shape[1])\n",
    "            y_max = int(box[3] * classification_images_green[i].shape[1])\n",
    "            if (x_max - x_min) > 20:\n",
    "                image = classification_images_green[i][x_min:x_max,y_min:y_max,:]\n",
    "                if image.shape[0] != 0:\n",
    "                    try:\n",
    "                        record_image_box = cv2.resize(image,(14,32))\n",
    "                        record_image_box = cv2.cvtColor(record_image_box, cv2.COLOR_BGR2RGB)\n",
    "                        record_images_box.append(record_image_box)\n",
    "                        labels_record.append('G')\n",
    "                    except:\n",
    "                        pass\n",
    "                    \n",
    "# YELLOW CASE    \n",
    "\n",
    "# Create the list of images to be classified\n",
    "for image in images_record_yellow:\n",
    "    classification_images_yellow.append(cv2.imread(image))\n",
    "    \n",
    "# Squeeze them in 1-D and convert them for the model     \n",
    "for img in classification_images_yellow:\n",
    "    img = cv2.cvtColor(img, cv2.COLOR_RGB2BGR)\n",
    "    test_images_yellow.append(np.expand_dims(img, axis=0))\n",
    "\n",
    "# Cut the image looking at boxes detected\n",
    "for i in range (len(images_record_yellow)):\n",
    "# for i in range(1):\n",
    "    boxes_record, scores_record, classes_record = detection(test_images_yellow[i])\n",
    "    for parameter in zip(boxes_record[0], classes_record[0], scores_record[0]):\n",
    "         if parameter[1] == 10 and parameter[2] >= .5:\n",
    "            box = parameter[0]\n",
    "            x_min = int(box[0] * classification_images_yellow[i].shape[0])\n",
    "            x_max = int(box[2] * classification_images_yellow[i].shape[0])\n",
    "            y_min = int(box[1] * classification_images_yellow[i].shape[1])\n",
    "            y_max = int(box[3] * classification_images_yellow[i].shape[1])\n",
    "            if (x_max - x_min) > 20:\n",
    "                image = classification_images_yellow[i][x_min:x_max,y_min:y_max,:]\n",
    "                if image.shape[0] != 0:\n",
    "                    try:\n",
    "                        record_image_box = cv2.resize(image,(14,32))\n",
    "                        record_image_box = cv2.cvtColor(record_image_box, cv2.COLOR_BGR2RGB)\n",
    "                        record_images_box.append(record_image_box)\n",
    "                        labels_record.append('Y')\n",
    "                    except:\n",
    "                        pass\n",
    "                    \n",
    "# NONE CASE    \n",
    "\n",
    "# Create the list of images to be classified\n",
    "for image in images_record_none:\n",
    "    classification_images_none.append(cv2.imread(image))\n",
    "    \n",
    "# Squeeze them in 1-D and convert them for the model     \n",
    "for img in classification_images_none:\n",
    "    img = cv2.cvtColor(img, cv2.COLOR_RGB2BGR)\n",
    "    test_images_none.append(np.expand_dims(img, axis=0))\n",
    "\n",
    "# Cut the image looking at boxes detected\n",
    "# for i in range (len(image_record_none)):\n",
    "for i in range(1):\n",
    "    boxes_record, scores_record, classes_record = detection(test_images_none[i])\n",
    "    for parameter in zip(boxes_record[0], classes_record[0], scores_record[0]):\n",
    "         if parameter[1] == 10 and parameter[2] >= .5:\n",
    "            box = parameter[0]\n",
    "            x_min = int(box[0] * classification_images_none[i].shape[0])\n",
    "            x_max = int(box[2] * classification_images_none[i].shape[0])\n",
    "            y_min = int(box[1] * classification_images_none[i].shape[1])\n",
    "            y_max = int(box[3] * classification_images_none[i].shape[1])\n",
    "            if (x_max - x_min) > 20:\n",
    "                image = classification_images_none[i][x_min:x_max,y_min:y_max,:]\n",
    "                if image.shape[0] != 0:\n",
    "                    try:\n",
    "                        record_image_box = cv2.resize(image,(14,32))\n",
    "                        record_image_box = cv2.cvtColor(record_image_box, cv2.COLOR_BGR2RGB)\n",
    "                        record_images_box.append(record_image_box)\n",
    "                        labels_record.append('O')\n",
    "                    except:\n",
    "                        pass"
   ]
  },
  {
   "cell_type": "code",
   "execution_count": 30,
   "metadata": {},
   "outputs": [],
   "source": [
    "x_record = []\n",
    "y_record = []\n",
    "\n",
    "# Use dict to store labels\n",
    "y_record = [label_dict[i] for i in labels_record]\n",
    "\n",
    "# Transform them for the model\n",
    "x_record = np.array(record_images_box)\n",
    "y_record = np.array(y_record)"
   ]
  },
  {
   "cell_type": "code",
   "execution_count": 31,
   "metadata": {
    "scrolled": true
   },
   "outputs": [
    {
     "name": "stdout",
     "output_type": "stream",
     "text": [
      "\n",
      "# Evaluate on record data\n",
      "345/345 [==============================] - 0s 471us/step\n",
      "test loss, test acc: [0.071639002319695291, 0.98260869772537895]\n"
     ]
    }
   ],
   "source": [
    "# Evaluate the model on the test data using `evaluate`\n",
    "print('\\n# Evaluate on record data')\n",
    "results = model.evaluate(x_record, y_record, batch_size=128)\n",
    "print('test loss, test acc:', results)"
   ]
  },
  {
   "cell_type": "code",
   "execution_count": 32,
   "metadata": {},
   "outputs": [],
   "source": [
    "# Perform traffic light detection on new sim data\n",
    "classification_images_red = []\n",
    "test_images_red = []\n",
    "classification_images_green = []\n",
    "test_images_green = []\n",
    "classification_images_yellow = []\n",
    "test_images_yellow = []\n",
    "classification_images_none = []\n",
    "test_images_none = []\n",
    "\n",
    "boxes_new_sim = []\n",
    "classes_new_sim = []\n",
    "scores_new_sim = []\n",
    "\n",
    "new_sim_images_box = []\n",
    "labels_new_sim = []"
   ]
  },
  {
   "cell_type": "code",
   "execution_count": 33,
   "metadata": {},
   "outputs": [],
   "source": [
    "# Load new_sim data\n",
    "\n",
    "# Red \n",
    "\n",
    "red_path = \"data_train_new_sim/red\" # Enter Directory of all images \n",
    "data_red_new_sim_path = os.path.join(red_path,'*g')\n",
    "\n",
    "images_new_sim_red = glob.glob(data_red_new_sim_path)\n",
    "images_new_sim_red.sort()\n",
    "\n",
    "# Green \n",
    "green_path = \"data_train_new_sim/green\" # Enter Directory of all images \n",
    "data_green_new_sim_path = os.path.join(green_path,'*g')\n",
    "\n",
    "images_new_sim_green = glob.glob(data_green_new_sim_path)\n",
    "images_new_sim_green.sort()\n",
    "\n",
    "# Yellow \n",
    "yellow_path = \"data_train_new_sim/yellow\" # Enter Directory of all images \n",
    "data_yellow_new_sim_path = os.path.join(yellow_path,'*g')\n",
    "\n",
    "images_new_sim_yellow = glob.glob(data_yellow_new_sim_path)\n",
    "images_new_sim_yellow.sort()"
   ]
  },
  {
   "cell_type": "code",
   "execution_count": 34,
   "metadata": {},
   "outputs": [],
   "source": [
    "# RED CASE    \n",
    "\n",
    "# Create the list of images to be classified\n",
    "for image in images_new_sim_red:\n",
    "    classification_images_red.append(cv2.imread(image))\n",
    "    \n",
    "# Squeeze them in 1-D and convert them for the model     \n",
    "for img in classification_images_red:\n",
    "    img = cv2.cvtColor(img, cv2.COLOR_RGB2BGR)\n",
    "    test_images_red.append(np.expand_dims(img, axis=0))\n",
    "\n",
    "# Cut the image looking at boxes detected\n",
    "for i in range (len(images_new_sim_red)):\n",
    "# for i in range(1):\n",
    "    boxes_new_sim, scores_new_sim, classes_new_sim = detection(test_images_red[i])\n",
    "    for parameter in zip(boxes_new_sim[0], classes_new_sim[0], scores_new_sim[0]):\n",
    "         if parameter[1] == 10 and parameter[2] >= .5:\n",
    "            box = parameter[0]\n",
    "            x_min = int(box[0] * classification_images_red[i].shape[0])\n",
    "            x_max = int(box[2] * classification_images_red[i].shape[0])\n",
    "            y_min = int(box[1] * classification_images_red[i].shape[1])\n",
    "            y_max = int(box[3] * classification_images_red[i].shape[1])\n",
    "            if (x_max - x_min) > 20:\n",
    "                image = classification_images_red[i][x_min:x_max,y_min:y_max,:]\n",
    "                if image.shape[0] != 0:\n",
    "                    try:\n",
    "                        new_sim_image_box = cv2.resize(image,(14,32))\n",
    "                        new_sim_image_box = cv2.cvtColor(new_sim_image_box, cv2.COLOR_BGR2RGB)\n",
    "                        new_sim_images_box.append(new_sim_image_box)\n",
    "                        labels_new_sim.append('R')\n",
    "                    except:\n",
    "                        pass\n",
    "                    \n",
    "# GREEN CASE    \n",
    "\n",
    "# Create the list of images to be classified\n",
    "for image in images_new_sim_green:\n",
    "    classification_images_green.append(cv2.imread(image))\n",
    "    \n",
    "# Squeeze them in 1-D and convert them for the model     \n",
    "for img in classification_images_green:\n",
    "    img = cv2.cvtColor(img, cv2.COLOR_RGB2BGR)\n",
    "    test_images_green.append(np.expand_dims(img, axis=0))\n",
    "\n",
    "# Cut the image looking at boxes detected\n",
    "for i in range (len(images_new_sim_green)):\n",
    "# for i in range(1):\n",
    "    boxes_new_sim, scores_new_sim, classes_new_sim = detection(test_images_green[i])\n",
    "    for parameter in zip(boxes_new_sim[0], classes_new_sim[0], scores_new_sim[0]):\n",
    "         if parameter[1] == 10 and parameter[2] >= .5:\n",
    "            box = parameter[0]\n",
    "            x_min = int(box[0] * classification_images_green[i].shape[0])\n",
    "            x_max = int(box[2] * classification_images_green[i].shape[0])\n",
    "            y_min = int(box[1] * classification_images_green[i].shape[1])\n",
    "            y_max = int(box[3] * classification_images_green[i].shape[1])\n",
    "            if (x_max - x_min) > 20:\n",
    "                image = classification_images_green[i][x_min:x_max,y_min:y_max,:]\n",
    "                if image.shape[0] != 0:\n",
    "                    try:\n",
    "                        new_sim_image_box = cv2.resize(image,(14,32))\n",
    "                        new_sim_image_box = cv2.cvtColor(new_sim_image_box, cv2.COLOR_BGR2RGB)\n",
    "                        new_sim_images_box.append(new_sim_image_box)\n",
    "                        labels_new_sim.append('G')\n",
    "                    except:\n",
    "                        pass\n",
    "                    \n",
    "# YELLOW CASE    \n",
    "\n",
    "# Create the list of images to be classified\n",
    "for image in images_new_sim_yellow:\n",
    "    classification_images_yellow.append(cv2.imread(image))\n",
    "    \n",
    "# Squeeze them in 1-D and convert them for the model     \n",
    "for img in classification_images_yellow:\n",
    "    img = cv2.cvtColor(img, cv2.COLOR_RGB2BGR)\n",
    "    test_images_yellow.append(np.expand_dims(img, axis=0))\n",
    "\n",
    "# Cut the image looking at boxes detected\n",
    "for i in range (len(images_new_sim_yellow)):\n",
    "# for i in range(1):\n",
    "    boxes_new_sim, scores_new_sim, classes_new_sim = detection(test_images_yellow[i])\n",
    "    for parameter in zip(boxes_new_sim[0], classes_new_sim[0], scores_new_sim[0]):\n",
    "         if parameter[1] == 10 and parameter[2] >= .5:\n",
    "            box = parameter[0]\n",
    "            x_min = int(box[0] * classification_images_yellow[i].shape[0])\n",
    "            x_max = int(box[2] * classification_images_yellow[i].shape[0])\n",
    "            y_min = int(box[1] * classification_images_yellow[i].shape[1])\n",
    "            y_max = int(box[3] * classification_images_yellow[i].shape[1])\n",
    "            if (x_max - x_min) > 20:\n",
    "                image = classification_images_yellow[i][x_min:x_max,y_min:y_max,:]\n",
    "                if image.shape[0] != 0:\n",
    "                    try:\n",
    "                        new_sim_image_box = cv2.resize(image,(14,32))\n",
    "                        new_sim_image_box = cv2.cvtColor(new_sim_image_box, cv2.COLOR_BGR2RGB)\n",
    "                        new_sim_images_box.append(new_sim_image_box)\n",
    "                        labels_new_sim.append('Y')\n",
    "                    except:\n",
    "                        pass"
   ]
  },
  {
   "cell_type": "code",
   "execution_count": 35,
   "metadata": {},
   "outputs": [],
   "source": [
    "x_new_sim = []\n",
    "y_new_sim = []\n",
    "\n",
    "# Use dict to store labels\n",
    "y_new_sim = [label_dict[i] for i in labels_new_sim]\n",
    "\n",
    "# Transform them for the model\n",
    "x_new_sim = np.array(new_sim_images_box)\n",
    "y_new_sim = np.array(y_new_sim)"
   ]
  },
  {
   "cell_type": "code",
   "execution_count": 57,
   "metadata": {},
   "outputs": [
    {
     "name": "stdout",
     "output_type": "stream",
     "text": [
      "2\n"
     ]
    },
    {
     "data": {
      "image/png": "[encoded data removed]",
      "text/plain": [
       "<matplotlib.figure.Figure at 0x7f439b1cdcf8>"
      ]
     },
     "metadata": {
      "needs_background": "light"
     },
     "output_type": "display_data"
    }
   ],
   "source": [
    "i = 143\n",
    "plt.figure()\n",
    "plt.imshow(x_new_sim[i])\n",
    "print(y_new_sim[i])"
   ]
  },
  {
   "cell_type": "code",
   "execution_count": 58,
   "metadata": {},
   "outputs": [
    {
     "name": "stdout",
     "output_type": "stream",
     "text": [
      "1/1 [==============================] - 0s 149ms/step\n",
      "[2]\n"
     ]
    }
   ],
   "source": [
    "# load the model we saved\n",
    "model = load_model('model.h5')\n",
    "classification = model.predict_classes(x_new_sim[i].reshape(1, 32, 14, 3), batch_size=10)\n",
    "\n",
    "print(classification)"
   ]
  },
  {
   "cell_type": "code",
   "execution_count": null,
   "metadata": {},
   "outputs": [],
   "source": []
  }
 ],
 "metadata": {
  "anaconda-cloud": {},
  "kernelspec": {
   "display_name": "Python 3",
   "language": "python",
   "name": "python3"
  },
  "language_info": {
   "codemirror_mode": {
    "name": "ipython",
    "version": 3
   },
   "file_extension": ".py",
   "mimetype": "text/x-python",
   "name": "python",
   "nbconvert_exporter": "python",
   "pygments_lexer": "ipython3",
   "version": "3.5.2"
  },
  "widgets": {
   "state": {},
   "version": "1.1.2"
  }
 },
 "nbformat": 4,
 "nbformat_minor": 1
}
